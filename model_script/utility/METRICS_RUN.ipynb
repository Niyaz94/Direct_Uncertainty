{
 "cells": [
  {
   "cell_type": "code",
   "execution_count": 1,
   "id": "6b0415eb",
   "metadata": {
    "execution": {
     "iopub.execute_input": "2025-05-22T20:58:22.020461Z",
     "iopub.status.busy": "2025-05-22T20:58:22.020095Z",
     "iopub.status.idle": "2025-05-22T20:58:22.887613Z",
     "shell.execute_reply": "2025-05-22T20:58:22.887132Z"
    },
    "papermill": {
     "duration": 0.873193,
     "end_time": "2025-05-22T20:58:22.888669",
     "exception": false,
     "start_time": "2025-05-22T20:58:22.015476",
     "status": "completed"
    },
    "tags": []
   },
   "outputs": [],
   "source": [
    "import numpy as np\n",
    "import nibabel as nib\n",
    "import glob\n",
    "import os\n",
    "import re\n",
    "import pandas as pd\n",
    "import warnings\n",
    "import json"
   ]
  },
  {
   "cell_type": "code",
   "execution_count": 2,
   "id": "9f2f2190",
   "metadata": {
    "execution": {
     "iopub.execute_input": "2025-05-22T20:58:22.897064Z",
     "iopub.status.busy": "2025-05-22T20:58:22.896561Z",
     "iopub.status.idle": "2025-05-22T20:58:22.899545Z",
     "shell.execute_reply": "2025-05-22T20:58:22.899178Z"
    },
    "papermill": {
     "duration": 0.007715,
     "end_time": "2025-05-22T20:58:22.900228",
     "exception": false,
     "start_time": "2025-05-22T20:58:22.892513",
     "status": "completed"
    },
    "tags": []
   },
   "outputs": [],
   "source": [
    "warnings.filterwarnings(\"ignore\")\n",
    "pd.set_option('display.max_rows', None)\n",
    "pd.set_option('display.max_columns', None)\n",
    "pd.set_option('display.max_colwidth', None)"
   ]
  },
  {
   "cell_type": "code",
   "execution_count": null,
   "id": "f2351c64",
   "metadata": {
    "execution": {
     "iopub.execute_input": "2025-05-22T20:58:22.907854Z",
     "iopub.status.busy": "2025-05-22T20:58:22.907533Z",
     "iopub.status.idle": "2025-05-22T20:58:22.909847Z",
     "shell.execute_reply": "2025-05-22T20:58:22.909485Z"
    },
    "papermill": {
     "duration": 0.006817,
     "end_time": "2025-05-22T20:58:22.910514",
     "exception": false,
     "start_time": "2025-05-22T20:58:22.903697",
     "status": "completed"
    },
    "tags": []
   },
   "outputs": [],
   "source": [
    "data_dir = '/U-Net/data/'\n",
    "predictions_dir = '/U-Net/predictions/'\n",
    "N_LEVELS = 10"
   ]
  },
  {
   "cell_type": "code",
   "execution_count": 4,
   "id": "9f3908f1",
   "metadata": {
    "execution": {
     "iopub.execute_input": "2025-05-22T20:58:22.918093Z",
     "iopub.status.busy": "2025-05-22T20:58:22.917766Z",
     "iopub.status.idle": "2025-05-22T20:58:22.920317Z",
     "shell.execute_reply": "2025-05-22T20:58:22.919965Z"
    },
    "papermill": {
     "duration": 0.006993,
     "end_time": "2025-05-22T20:58:22.920995",
     "exception": false,
     "start_time": "2025-05-22T20:58:22.914002",
     "status": "completed"
    },
    "tags": []
   },
   "outputs": [],
   "source": [
    "def add_uncertainty_class(predictions, uncertainty):\n",
    "    predictions = np.mean(predictions,axis = 0)\n",
    "        \n",
    "    return np.where(predictions % 1 == 0, predictions, uncertainty)\n",
    "       "
   ]
  },
  {
   "cell_type": "code",
   "execution_count": 5,
   "id": "ca170b83",
   "metadata": {
    "execution": {
     "iopub.execute_input": "2025-05-22T20:58:22.928463Z",
     "iopub.status.busy": "2025-05-22T20:58:22.928131Z",
     "iopub.status.idle": "2025-05-22T20:58:22.930650Z",
     "shell.execute_reply": "2025-05-22T20:58:22.930297Z"
    },
    "papermill": {
     "duration": 0.006913,
     "end_time": "2025-05-22T20:58:22.931313",
     "exception": false,
     "start_time": "2025-05-22T20:58:22.924400",
     "status": "completed"
    },
    "tags": []
   },
   "outputs": [],
   "source": [
    "def natural_keys(text):\n",
    "    return [ int(c) if c.isdigit() else c for c in re.split(r'(\\d+)', text) ]"
   ]
  },
  {
   "cell_type": "code",
   "execution_count": 6,
   "id": "3e653832",
   "metadata": {
    "execution": {
     "iopub.execute_input": "2025-05-22T20:58:22.938793Z",
     "iopub.status.busy": "2025-05-22T20:58:22.938488Z",
     "iopub.status.idle": "2025-05-22T20:58:22.941092Z",
     "shell.execute_reply": "2025-05-22T20:58:22.940750Z"
    },
    "papermill": {
     "duration": 0.007004,
     "end_time": "2025-05-22T20:58:22.941748",
     "exception": false,
     "start_time": "2025-05-22T20:58:22.934744",
     "status": "completed"
    },
    "tags": []
   },
   "outputs": [],
   "source": [
    "def count_subfolders(path):\n",
    "    return sum(os.path.isdir(os.path.join(path, entry)) for entry in os.listdir(path))\n",
    "# print(count_subfolders(os.path.join(predictions_dir,\"BRAIN_TUMOR_TASK1\",\"UNCERTAINTY_CLASS\",\"ensemble\")))"
   ]
  },
  {
   "cell_type": "code",
   "execution_count": 7,
   "id": "be89f557",
   "metadata": {
    "execution": {
     "iopub.execute_input": "2025-05-22T20:58:22.949473Z",
     "iopub.status.busy": "2025-05-22T20:58:22.949122Z",
     "iopub.status.idle": "2025-05-22T20:58:22.953409Z",
     "shell.execute_reply": "2025-05-22T20:58:22.953057Z"
    },
    "papermill": {
     "duration": 0.008851,
     "end_time": "2025-05-22T20:58:22.954093",
     "exception": false,
     "start_time": "2025-05-22T20:58:22.945242",
     "status": "completed"
    },
    "tags": []
   },
   "outputs": [],
   "source": [
    "def QDICE(pred, target, num_bins=10):\n",
    "   \n",
    "    bin_edges_low = [        i / num_bins for i in range(num_bins)]\n",
    "    bin_edges_high = [edge + 1 / num_bins for edge in bin_edges_low]\n",
    "    bin_edges_high[-1] += 1e-5  # small nudge to include 1.0\n",
    "        \n",
    "    dice_scores = []\n",
    "    for low, high in zip(bin_edges_low, bin_edges_high):\n",
    "        \n",
    "        pred_band = ((pred >= low) & (pred < high))\n",
    "        target_band = ((target >= low) & (target < high))\n",
    "\n",
    "        intersection = np.sum(pred_band * target_band)\n",
    "        union = np.sum(pred_band) + np.sum(target_band)\n",
    "\n",
    "        if union > 0:\n",
    "            dice = 2 * intersection / union\n",
    "            dice_scores.append(dice)\n",
    "\n",
    "    return np.mean(dice_scores) if dice_scores else 1.0"
   ]
  },
  {
   "cell_type": "code",
   "execution_count": 8,
   "id": "2edf0dba",
   "metadata": {
    "execution": {
     "iopub.execute_input": "2025-05-22T20:58:22.961918Z",
     "iopub.status.busy": "2025-05-22T20:58:22.961570Z",
     "iopub.status.idle": "2025-05-22T20:58:22.965392Z",
     "shell.execute_reply": "2025-05-22T20:58:22.965042Z"
    },
    "papermill": {
     "duration": 0.008317,
     "end_time": "2025-05-22T20:58:22.965995",
     "exception": false,
     "start_time": "2025-05-22T20:58:22.957678",
     "status": "completed"
    },
    "tags": []
   },
   "outputs": [],
   "source": [
    "def DICE(pred, target, num_thresholds=10):\n",
    "    thresholds = [i/num_thresholds for i in range(1,num_thresholds)]\n",
    "    \n",
    "    dice_scores = []\n",
    "\n",
    "    for t in thresholds:\n",
    "        pred_bin = (pred >= t).astype(np.uint8)\n",
    "        target_bin = (target >= t).astype(np.uint8)\n",
    "        \n",
    "        intersection = np.sum(pred_bin * target_bin)\n",
    "        union = np.sum(pred_bin) + np.sum(target_bin)\n",
    "\n",
    "        if union > 0:\n",
    "            dice = 2 * intersection / union\n",
    "            dice_scores.append(dice)\n",
    "\n",
    "    return np.mean(dice_scores) if dice_scores else 1.0"
   ]
  },
  {
   "cell_type": "code",
   "execution_count": 9,
   "id": "d845a889",
   "metadata": {
    "execution": {
     "iopub.execute_input": "2025-05-22T20:58:22.973970Z",
     "iopub.status.busy": "2025-05-22T20:58:22.973603Z",
     "iopub.status.idle": "2025-05-22T20:58:22.976166Z",
     "shell.execute_reply": "2025-05-22T20:58:22.975810Z"
    },
    "papermill": {
     "duration": 0.007144,
     "end_time": "2025-05-22T20:58:22.976827",
     "exception": false,
     "start_time": "2025-05-22T20:58:22.969683",
     "status": "completed"
    },
    "tags": []
   },
   "outputs": [],
   "source": [
    "def GDC(pred, target):\n",
    "    return 2*np.sum(np.sqrt(pred*target))/(np.sum(pred) + np.sum(target) + 1e-8)"
   ]
  },
  {
   "cell_type": "code",
   "execution_count": 10,
   "id": "b971db1c",
   "metadata": {
    "execution": {
     "iopub.execute_input": "2025-05-22T20:58:22.984482Z",
     "iopub.status.busy": "2025-05-22T20:58:22.984146Z",
     "iopub.status.idle": "2025-05-22T20:58:22.986633Z",
     "shell.execute_reply": "2025-05-22T20:58:22.986284Z"
    },
    "papermill": {
     "duration": 0.006996,
     "end_time": "2025-05-22T20:58:22.987282",
     "exception": false,
     "start_time": "2025-05-22T20:58:22.980286",
     "status": "completed"
    },
    "tags": []
   },
   "outputs": [],
   "source": [
    "def NORMAL_DICE(pred, target):\n",
    "    return 2*np.sum(pred*target)/(np.sum(pred) + np.sum(target) + 1e-8)"
   ]
  },
  {
   "cell_type": "code",
   "execution_count": 11,
   "id": "1e78d2f4",
   "metadata": {
    "execution": {
     "iopub.execute_input": "2025-05-22T20:58:22.995185Z",
     "iopub.status.busy": "2025-05-22T20:58:22.994795Z",
     "iopub.status.idle": "2025-05-22T20:58:22.997408Z",
     "shell.execute_reply": "2025-05-22T20:58:22.997054Z"
    },
    "papermill": {
     "duration": 0.007293,
     "end_time": "2025-05-22T20:58:22.998060",
     "exception": false,
     "start_time": "2025-05-22T20:58:22.990767",
     "status": "completed"
    },
    "tags": []
   },
   "outputs": [],
   "source": [
    "def IOU(pred, target):\n",
    "    intersection = np.sum(pred * target)\n",
    "    union = np.sum((pred + target) > 0)\n",
    "    \n",
    "    return 0.0 if union == 0 else 1.0 - intersection / union"
   ]
  },
  {
   "cell_type": "code",
   "execution_count": 12,
   "id": "99a615c7",
   "metadata": {
    "execution": {
     "iopub.execute_input": "2025-05-22T20:58:23.006142Z",
     "iopub.status.busy": "2025-05-22T20:58:23.005793Z",
     "iopub.status.idle": "2025-05-22T20:58:23.009899Z",
     "shell.execute_reply": "2025-05-22T20:58:23.009553Z"
    },
    "papermill": {
     "duration": 0.008666,
     "end_time": "2025-05-22T20:58:23.010543",
     "exception": false,
     "start_time": "2025-05-22T20:58:23.001877",
     "status": "completed"
    },
    "tags": []
   },
   "outputs": [],
   "source": [
    "def GED(pred, target):\n",
    "    \n",
    "    # Intra-reference IoU\n",
    "    ref_iou = [IOU(target[i], target[j]) for i in range(len(target)) for j in range(i + 1, len(target))]\n",
    "    mean_ref_iou = np.mean(ref_iou) if ref_iou else 0\n",
    "\n",
    "    # Intra-prediction IoU\n",
    "    pred_iou = [IOU(pred[i], pred[j]) for i in range(len(pred)) for j in range(i + 1, len(pred))]\n",
    "    mean_pred_iou = np.mean(pred_iou) if pred_iou else 0\n",
    "\n",
    "    # Cross IoU (prediction vs reference)\n",
    "    cross_iou = [IOU(tar, ref) for tar in target for ref in pred]\n",
    "    \n",
    "    mean_cross_iou = np.mean(cross_iou) if cross_iou else 0\n",
    "    \n",
    "    return 2 * mean_cross_iou - mean_pred_iou - mean_ref_iou"
   ]
  },
  {
   "cell_type": "code",
   "execution_count": 13,
   "id": "b9262b26",
   "metadata": {
    "execution": {
     "iopub.execute_input": "2025-05-22T20:58:23.018536Z",
     "iopub.status.busy": "2025-05-22T20:58:23.018150Z",
     "iopub.status.idle": "2025-05-22T20:58:23.022833Z",
     "shell.execute_reply": "2025-05-22T20:58:23.022482Z"
    },
    "papermill": {
     "duration": 0.009307,
     "end_time": "2025-05-22T20:58:23.023464",
     "exception": false,
     "start_time": "2025-05-22T20:58:23.014157",
     "status": "completed"
    },
    "tags": []
   },
   "outputs": [],
   "source": [
    "def IOU_2(pred, target):\n",
    "    intersection = np.sum(pred * target)\n",
    "    union = np.sum((pred + target) > 0)\n",
    "    \n",
    "    return 1.0 if union == 0 else 1.0 - intersection / union\n",
    "\n",
    "def GED_2(pred, target):\n",
    "    \n",
    "    # Intra-reference IoU\n",
    "    ref_iou = [IOU_2(target[i], target[j]) for i in range(len(target)) for j in range(i + 1, len(target))]\n",
    "    mean_ref_iou = np.mean(ref_iou) if ref_iou else 0\n",
    "\n",
    "    # Intra-prediction IoU\n",
    "    pred_iou = [IOU_2(pred[i], pred[j]) for i in range(len(pred)) for j in range(i + 1, len(pred))]\n",
    "    mean_pred_iou = np.mean(pred_iou) if pred_iou else 0\n",
    "\n",
    "    # Cross IoU (prediction vs reference)\n",
    "    cross_iou = [IOU_2(tar, ref) for tar in target for ref in pred]\n",
    "    \n",
    "    mean_cross_iou = np.mean(cross_iou) if cross_iou else 0\n",
    "    \n",
    "    return 2 * mean_cross_iou - mean_pred_iou - mean_ref_iou"
   ]
  },
  {
   "cell_type": "code",
   "execution_count": 14,
   "id": "82097cbd",
   "metadata": {
    "execution": {
     "iopub.execute_input": "2025-05-22T20:58:23.031482Z",
     "iopub.status.busy": "2025-05-22T20:58:23.031173Z",
     "iopub.status.idle": "2025-05-22T20:58:23.034284Z",
     "shell.execute_reply": "2025-05-22T20:58:23.033932Z"
    },
    "papermill": {
     "duration": 0.007723,
     "end_time": "2025-05-22T20:58:23.034920",
     "exception": false,
     "start_time": "2025-05-22T20:58:23.027197",
     "status": "completed"
    },
    "tags": []
   },
   "outputs": [],
   "source": [
    "def reading_ref_images(dataset,uncertainty_type):\n",
    "    ref_data_dir = os.path.join(data_dir,dataset,uncertainty_type,'labelsTs')\n",
    "    fnames = [os.path.basename(f) for f in glob.glob(ref_data_dir + '/*.nii.gz')]\n",
    "    cases  = set([f.rsplit('_',1)[0] for f in fnames])\n",
    "    return fnames, cases, ref_data_dir"
   ]
  },
  {
   "cell_type": "code",
   "execution_count": 15,
   "id": "da8e55a4",
   "metadata": {
    "execution": {
     "iopub.execute_input": "2025-05-22T20:58:23.043043Z",
     "iopub.status.busy": "2025-05-22T20:58:23.042736Z",
     "iopub.status.idle": "2025-05-22T20:58:23.046902Z",
     "shell.execute_reply": "2025-05-22T20:58:23.046550Z"
    },
    "papermill": {
     "duration": 0.008868,
     "end_time": "2025-05-22T20:58:23.047575",
     "exception": false,
     "start_time": "2025-05-22T20:58:23.038707",
     "status": "completed"
    },
    "tags": []
   },
   "outputs": [],
   "source": [
    "uncertainty_types = ['SINGLE', 'MULTIPLE','UNCERTAINTY_CLASS']\n",
    "datasets = [\n",
    "    'KIDNEY'  ,  'BRAIN_TUMOR_TASK1','HEART', 'SIJ', 'LUNG', 'PROSTATE_TASK1', 'PROSTATE_TASK2', \n",
    "    'KNEE',    'BRAIN_GROWTH', 'SIJ', 'LUNG' , 'PANCREAS'\n",
    "]\n",
    "models = ['ensemble','hier_probabilistic',  'bayesian',  'probabilistic']\n",
    "\n",
    "folds = ['fold0','fold1','fold2','fold3','fold4']\n",
    "\n",
    "classes = {\n",
    "    'BRAIN_TUMOR_TASK1':[\"TASK1\",\"UNCERTAINTY\"], 'KIDNEY':[\"KIDNEY\",\"UNCERTAINTY\"], 'KNEE':[\"KNEE\",\"UNCERTAINTY\"], \n",
    "    'PROSTATE_TASK1':[\"TASK1\",\"UNCERTAINTY\"], 'PROSTATE_TASK2':[\"TASK2\",\"UNCERTAINTY\"], 'BRAIN_GROWTH':[\"BRAIN_GROWTH\",\"UNCERTAINTY\"], \n",
    "    'PANCREAS':[\"PANCREAS\",\"UNCERTAINTY\"], 'SIJ':[\"SIJ\",\"UNCERTAINTY\"], 'LUNG':[\"LUNG\",\"UNCERTAINTY\"], 'HEART':[\"LUNGS\",\"HEART\",\"UNCERTAINTY\"]\n",
    "}\n",
    "uncertainty_types_label = {\n",
    "    'SINGLE':\"SIN\", \n",
    "    'MULTIPLE':\"MUL\",\n",
    "    'UNCERTAINTY_CLASS':\"DIR\"\n",
    "}"
   ]
  },
  {
   "cell_type": "code",
   "execution_count": 16,
   "id": "c08c732a",
   "metadata": {
    "execution": {
     "iopub.execute_input": "2025-05-22T20:58:23.055740Z",
     "iopub.status.busy": "2025-05-22T20:58:23.055465Z",
     "iopub.status.idle": "2025-05-22T21:12:11.738030Z",
     "shell.execute_reply": "2025-05-22T21:12:11.737452Z"
    },
    "papermill": {
     "duration": 828.688376,
     "end_time": "2025-05-22T21:12:11.739747",
     "exception": false,
     "start_time": "2025-05-22T20:58:23.051371",
     "status": "completed"
    },
    "tags": []
   },
   "outputs": [],
   "source": [
    "# !!!!!!!!!!!!!!!!!!!!!!!! WRONG WRONG WRONG: <<<it creates dublicate values>>>\n",
    "results = []\n",
    "for dataset in datasets:\n",
    "    for model in models:\n",
    "        for uncertainty_type in uncertainty_types:\n",
    "            \n",
    "            if uncertainty_type==\"UNCERTAINTY_CLASS\" and model!=\"ensemble\":\n",
    "                continue\n",
    "                \n",
    "            \n",
    "            # return the list of ref images name and the path to the reference images directory\n",
    "            ref_fname, ref_cases,ref_dir_path = reading_ref_images(dataset,uncertainty_type)\n",
    "            \n",
    "            # the path to the fold directories containing the predictions\n",
    "            eval_dirs_path = [os.path.join(predictions_dir,dataset,uncertainty_type,model,fold) for fold in folds]\n",
    "\n",
    "            for ncase, case in enumerate(ref_cases): # loop over the ref cases\n",
    "                     \n",
    "                # Load all reference images\n",
    "                refs = [nib.load(fname).get_fdata() for fname in glob.glob(os.path.join(ref_dir_path, f'{case}_*.nii.gz'))]\n",
    "\n",
    "                # Load predictions for each case seperated by fold (list items)\n",
    "                evals = evals_un_mul = evals_un_sin = []\n",
    "                \n",
    "                model_dir_path = os.path.join(predictions_dir,dataset,uncertainty_type,model)\n",
    "                # if uncertainty_type==\"UNCERTAINTY_CLASS\" and count_subfolders(model_dir_path)<5:\n",
    "                if uncertainty_type==\"UNCERTAINTY_CLASS\": \n",
    "                    # if count_subfolders(model_dir_path)<5:\n",
    "                    evals.extend([nib.load(fname).get_fdata() for fname in glob.glob(os.path.join(model_dir_path, f'{case}_*.nii.gz'))])\n",
    "                    evals_un_mul = [nib.load(os.path.join(predictions_dir,dataset,\"MULTIPLE\",model,'fold' + str(i),case+'_0.nii.gz')).get_fdata() for i in range(5)]\n",
    "                    \n",
    "                    evals_un_sin = [nib.load(os.path.join(predictions_dir,dataset,\"SINGLE\",model,'fold' + str(i),case+'_0.nii.gz')).get_fdata() for i in range(5)]\n",
    "                    \n",
    "                else:\n",
    "                    for eval_dir in eval_dirs_path:\n",
    "                        evals.extend([nib.load(fname).get_fdata() for fname in glob.glob(os.path.join(eval_dir, f'{case}_*.nii.gz'))])\n",
    "                    \n",
    "                classes_object = len(classes[dataset]) + (1 if uncertainty_type==\"UNCERTAINTY_CLASS\" else 0)\n",
    "                    \n",
    "                # Binarize the predictions; for example, if the image has 3 classes, the binarized images will be 3 images with values 0 and 1.\n",
    "                # for each class, the binarized image will have 1 for the pixels that belong to that class and 0 for the rest.\n",
    "                \n",
    "                # print(ncase,dataset,model,uncertainty_type,case,len(results))\n",
    "                for label in range(1, classes_object):\n",
    "                    \n",
    "                    binarized_refs = [(item == label).astype(np.float32) for item in refs] # binarize the reference images.\n",
    "                    binarized_evals = [(item == label).astype(np.float32) for item in evals] # binarize the prediction images; all folds.\n",
    "                    avg_ref = np.mean(binarized_refs, axis=0)\n",
    "                    avg_eval = np.mean(binarized_evals, axis=0)                \n",
    "                    \n",
    "                    # Add the results of all the metrics to the results list\n",
    "                    # Only GED function accepts list of images as input the rest of the functions accept only one image as input.\n",
    "                    results +=[\n",
    "                        # (case,dataset, classes[dataset][label-1],uncertainty_types_label[uncertainty_type], model, QDICE(avg_ref, avg_eval, N_LEVELS),\"qdice\"),\n",
    "                        # (case,dataset, classes[dataset][label-1],uncertainty_types_label[uncertainty_type], model, DICE(avg_ref, avg_eval, N_LEVELS),\"dice\"),\n",
    "                        # (case,dataset, classes[dataset][label-1],uncertainty_types_label[uncertainty_type], model, GDC(avg_ref, avg_eval),\"gdc\"),\n",
    "                        (case,dataset, classes[dataset][label-1],uncertainty_types_label[uncertainty_type], model, NORMAL_DICE(avg_ref, avg_eval),\"ndice\"),\n",
    "                        \n",
    "                        # (case,dataset, classes[dataset][label-1],uncertainty_types_label[uncertainty_type], model, GED(binarized_refs, binarized_evals),\"ged\"),\n",
    "                        # (case,dataset, classes[dataset][label-1],uncertainty_types_label[uncertainty_type], model, GED_2(binarized_refs, binarized_evals),\"ged2\")\n",
    "                        \n",
    "                    ]  \n",
    "                    \n",
    "                    \n",
    "                    if uncertainty_type==\"UNCERTAINTY_CLASS\":                        \n",
    "                                                \n",
    "                        \n",
    "                        avg_eval = add_uncertainty_class(evals_un_sin,len(classes[dataset]))\n",
    "                        results +=[\n",
    "                            # (case,dataset, classes[dataset][label-1],\"DSI\", model, QDICE(avg_ref, avg_eval, N_LEVELS),\"qdice\"),\n",
    "                            # (case,dataset, classes[dataset][label-1],\"DSI\", model, DICE(avg_ref, avg_eval, N_LEVELS),\"dice\"),\n",
    "                            # (case,dataset, classes[dataset][label-1],\"DSI\", model, GDC(avg_ref, avg_eval),\"gdc\"),\n",
    "                            (case,dataset, classes[dataset][label-1],\"DSI\", model, NORMAL_DICE(avg_ref, np.where(avg_eval == label, 1, 0)),\"ndice\"),\n",
    "                            # (case,dataset, classes[dataset][label-1],\"DSI\", model, GED(binarized_refs, binarized_evals),\"ged\"),\n",
    "                            # (case,dataset, classes[dataset][label-1],\"DSI\", model, GED_2(binarized_refs, binarized_evals),\"ged2\")\n",
    "                        ]\n",
    "                        \n",
    "                        # print(\"DSI\",NORMAL_DICE(avg_ref, np.where(avg_eval == label, 1, 0)))\n",
    "                        \n",
    "                        \n",
    "                        \n",
    "                        avg_eval = add_uncertainty_class(evals_un_mul,len(classes[dataset]))\n",
    "                        \n",
    "                        results +=[\n",
    "                            # (case,dataset, classes[dataset][label-1],\"DMU\", model, QDICE(avg_ref, avg_eval, N_LEVELS),\"qdice\"),\n",
    "                            # (case,dataset, classes[dataset][label-1],\"DMU\", model, DICE(avg_ref, avg_eval, N_LEVELS),\"dice\"),\n",
    "                            # (case,dataset, classes[dataset][label-1],\"DMU\", model, GDC(avg_ref, avg_eval),\"gdc\"),\n",
    "                            (case,dataset, classes[dataset][label-1],\"DMU\", model, NORMAL_DICE(avg_ref, np.where(avg_eval == label, 1, 0)),\"ndice\"),\n",
    "                            # (case,dataset, classes[dataset][label-1],\"DMU\", model, GED(binarized_refs, binarized_evals),\"ged\"),\n",
    "                            # (case,dataset, classes[dataset][label-1],\"DMU\", model, GED_2(binarized_refs, binarized_evals),\"ged2\")\n",
    "                        ]\n",
    "                        # print(\"DMU\",NORMAL_DICE(avg_ref, np.where(avg_eval == label, 1, 0)))\n",
    "                        # print(\n",
    "                        #     \"DMU\",np.unique(avg_ref,return_counts=True),\n",
    "                        #     np.unique(np.where(avg_eval == label, 1, 0),return_counts=True)\n",
    "                        # )\n",
    "                        \n",
    "                \n"
   ]
  },
  {
   "cell_type": "code",
   "execution_count": 17,
   "id": "fa19e32c",
   "metadata": {
    "execution": {
     "iopub.execute_input": "2025-05-22T21:12:11.751318Z",
     "iopub.status.busy": "2025-05-22T21:12:11.750991Z",
     "iopub.status.idle": "2025-05-22T21:12:11.814504Z",
     "shell.execute_reply": "2025-05-22T21:12:11.813969Z"
    },
    "papermill": {
     "duration": 0.069275,
     "end_time": "2025-05-22T21:12:11.815346",
     "exception": false,
     "start_time": "2025-05-22T21:12:11.746071",
     "status": "completed"
    },
    "tags": []
   },
   "outputs": [],
   "source": [
    "FINAL_RESULTS = pd.DataFrame(columns=[\"id\",\"dataset\", \"segment\", \"type\", \"model\", \"result\", \"metric\"])\n",
    "FINAL_RESULTS = pd.concat([FINAL_RESULTS,pd.DataFrame(results, columns=FINAL_RESULTS.columns)], ignore_index=True)\n",
    "FINAL_RESULTS.to_csv(\"RESUITS_3.csv\",index=False)\n"
   ]
  },
  {
   "cell_type": "code",
   "execution_count": 18,
   "id": "36d11a87",
   "metadata": {
    "execution": {
     "iopub.execute_input": "2025-05-22T21:12:11.824208Z",
     "iopub.status.busy": "2025-05-22T21:12:11.823977Z",
     "iopub.status.idle": "2025-05-22T21:12:11.826341Z",
     "shell.execute_reply": "2025-05-22T21:12:11.825967Z"
    },
    "papermill": {
     "duration": 0.007493,
     "end_time": "2025-05-22T21:12:11.827037",
     "exception": false,
     "start_time": "2025-05-22T21:12:11.819544",
     "status": "completed"
    },
    "tags": []
   },
   "outputs": [],
   "source": [
    "# FINAL_RESULTS.head(20)"
   ]
  },
  {
   "cell_type": "code",
   "execution_count": 19,
   "id": "fe80823a",
   "metadata": {
    "execution": {
     "iopub.execute_input": "2025-05-22T21:12:11.835522Z",
     "iopub.status.busy": "2025-05-22T21:12:11.835254Z",
     "iopub.status.idle": "2025-05-22T21:12:11.837370Z",
     "shell.execute_reply": "2025-05-22T21:12:11.836991Z"
    },
    "papermill": {
     "duration": 0.006997,
     "end_time": "2025-05-22T21:12:11.838024",
     "exception": false,
     "start_time": "2025-05-22T21:12:11.831027",
     "status": "completed"
    },
    "tags": []
   },
   "outputs": [],
   "source": [
    "# FINAL_RESULTS.pivot_table(\n",
    "#     index=[\"dataset\", \"type\", \"model\", \"segment\"],\n",
    "#     columns=\"metric\",\n",
    "#     values=\"result\",\n",
    "#     aggfunc=\"mean\"\n",
    "# ).reset_index()"
   ]
  },
  {
   "cell_type": "code",
   "execution_count": 20,
   "id": "69115986",
   "metadata": {
    "execution": {
     "iopub.execute_input": "2025-05-22T21:12:11.847171Z",
     "iopub.status.busy": "2025-05-22T21:12:11.846892Z",
     "iopub.status.idle": "2025-05-22T21:12:11.848946Z",
     "shell.execute_reply": "2025-05-22T21:12:11.848602Z"
    },
    "papermill": {
     "duration": 0.007064,
     "end_time": "2025-05-22T21:12:11.849589",
     "exception": false,
     "start_time": "2025-05-22T21:12:11.842525",
     "status": "completed"
    },
    "tags": []
   },
   "outputs": [],
   "source": [
    "# FINAL_RESULTS.groupby([\"dataset\",\"type\",\"model\",\"segment\",\"metric\"]).agg({\"result\": [\"mean\", \"std\"]})"
   ]
  },
  {
   "cell_type": "code",
   "execution_count": 21,
   "id": "dbbeecdc",
   "metadata": {
    "execution": {
     "iopub.execute_input": "2025-05-22T21:12:11.858295Z",
     "iopub.status.busy": "2025-05-22T21:12:11.858024Z",
     "iopub.status.idle": "2025-05-22T21:12:11.860078Z",
     "shell.execute_reply": "2025-05-22T21:12:11.859724Z"
    },
    "papermill": {
     "duration": 0.006997,
     "end_time": "2025-05-22T21:12:11.860700",
     "exception": false,
     "start_time": "2025-05-22T21:12:11.853703",
     "status": "completed"
    },
    "tags": []
   },
   "outputs": [],
   "source": [
    "# FINAL_RESULTS.pivot_table(\n",
    "#     index=[\"dataset\", \"type\", \"model\", \"segment\"],\n",
    "#     columns=\"metric\",\n",
    "#     values=\"result\",\n",
    "#     aggfunc=\"mean\"\n",
    "# ).reset_index()"
   ]
  },
  {
   "cell_type": "code",
   "execution_count": 22,
   "id": "f7f6ce2c",
   "metadata": {
    "execution": {
     "iopub.execute_input": "2025-05-22T21:12:11.869338Z",
     "iopub.status.busy": "2025-05-22T21:12:11.869046Z",
     "iopub.status.idle": "2025-05-22T21:12:11.871122Z",
     "shell.execute_reply": "2025-05-22T21:12:11.870777Z"
    },
    "papermill": {
     "duration": 0.007088,
     "end_time": "2025-05-22T21:12:11.871762",
     "exception": false,
     "start_time": "2025-05-22T21:12:11.864674",
     "status": "completed"
    },
    "tags": []
   },
   "outputs": [],
   "source": [
    "# FINAL_RESULTS.loc[\n",
    "#     (FINAL_RESULTS[\"dataset\"] == \"KIDNEY\") & \n",
    "#     (FINAL_RESULTS[\"model\"] == \"ensemble\") & \n",
    "#     (FINAL_RESULTS[\"metric\"] == \"qdice\") & \n",
    "#     (FINAL_RESULTS[\"type\"] == \"SINGLE\")\n",
    "# ,[\"id\",\"result\"]]\n"
   ]
  }
 ],
 "metadata": {
  "kernelspec": {
   "display_name": "unet-env",
   "language": "python",
   "name": "python3"
  },
  "language_info": {
   "codemirror_mode": {
    "name": "ipython",
    "version": 3
   },
   "file_extension": ".py",
   "mimetype": "text/x-python",
   "name": "python",
   "nbconvert_exporter": "python",
   "pygments_lexer": "ipython3",
   "version": "3.9.21"
  },
  "papermill": {
   "default_parameters": {},
   "duration": 831.456641,
   "end_time": "2025-05-22T21:12:12.090152",
   "environment_variables": {},
   "exception": null,
   "input_path": "utility/METRICS.ipynb",
   "output_path": "utility/METRICS_RUN.ipynb",
   "parameters": {},
   "start_time": "2025-05-22T20:58:20.633511",
   "version": "2.6.0"
  }
 },
 "nbformat": 4,
 "nbformat_minor": 5
}
