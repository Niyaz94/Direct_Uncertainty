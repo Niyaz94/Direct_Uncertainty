{
 "cells": [
  {
   "cell_type": "code",
   "execution_count": 5,
   "metadata": {},
   "outputs": [],
   "source": [
    "import re\n",
    "import pandas as pd\n",
    "import os\n",
    "import numpy as np"
   ]
  },
  {
   "cell_type": "code",
   "execution_count": null,
   "metadata": {},
   "outputs": [],
   "source": [
    "root_path = \"/U-Net/results\"\n",
    "sub_path=\"heart/bayesian/loss\""
   ]
  },
  {
   "cell_type": "code",
   "execution_count": 10,
   "metadata": {},
   "outputs": [],
   "source": [
    "# Lists to store extracted values\n",
    "train_losses = []\n",
    "val_losses = []\n",
    "val_dices = []\n",
    "epoch_times = []\n",
    "samples =[]\n",
    "\n",
    "# Regular expression to extract numerical values\n",
    "pattern = re.compile(r\"epoch:\\s+\\d+\\s*, training loss:\\s+([\\d.]+)\\s*, validation loss:\\s+([\\d.]+)\\s*, validation dice:\\s+([\\d.]+)\\s*, this epoch took:\\s+([\\d.]+)\")\n",
    "\n",
    "\n",
    "for fold_index in range(0,5):\n",
    "    with open(os.path.join(root_path,sub_path,f\"fold{fold_index}_log.txt\"), \"r\") as f:\n",
    "        for line in f:\n",
    "            match = pattern.search(line)\n",
    "            if match:\n",
    "                samples.append([f\"fold{fold_index}\",float(match.group(1)),float(match.group(2)),float(match.group(3)),float(match.group(4))])\n",
    "                # train_losses.append(float(match.group(1)))\n",
    "                # val_losses.append(float(match.group(2)))\n",
    "                # val_dices.append(float(match.group(3)))\n",
    "                # epoch_times.append(float(match.group(4)))"
   ]
  },
  {
   "cell_type": "code",
   "execution_count": 12,
   "metadata": {},
   "outputs": [
    {
     "data": {
      "text/html": [
       "<div>\n",
       "<style scoped>\n",
       "    .dataframe tbody tr th:only-of-type {\n",
       "        vertical-align: middle;\n",
       "    }\n",
       "\n",
       "    .dataframe tbody tr th {\n",
       "        vertical-align: top;\n",
       "    }\n",
       "\n",
       "    .dataframe thead th {\n",
       "        text-align: right;\n",
       "    }\n",
       "</style>\n",
       "<table border=\"1\" class=\"dataframe\">\n",
       "  <thead>\n",
       "    <tr style=\"text-align: right;\">\n",
       "      <th></th>\n",
       "      <th>Fold</th>\n",
       "      <th>Training Loss</th>\n",
       "      <th>Validation Loss</th>\n",
       "      <th>Validation Dice</th>\n",
       "      <th>Epoch Time</th>\n",
       "    </tr>\n",
       "  </thead>\n",
       "  <tbody>\n",
       "    <tr>\n",
       "      <th>0</th>\n",
       "      <td>fold0</td>\n",
       "      <td>0.430109</td>\n",
       "      <td>0.368688</td>\n",
       "      <td>0.449178</td>\n",
       "      <td>53.946769</td>\n",
       "    </tr>\n",
       "    <tr>\n",
       "      <th>1</th>\n",
       "      <td>fold0</td>\n",
       "      <td>0.359796</td>\n",
       "      <td>0.357210</td>\n",
       "      <td>0.464461</td>\n",
       "      <td>51.028236</td>\n",
       "    </tr>\n",
       "    <tr>\n",
       "      <th>2</th>\n",
       "      <td>fold0</td>\n",
       "      <td>0.351595</td>\n",
       "      <td>0.356550</td>\n",
       "      <td>0.465844</td>\n",
       "      <td>50.092748</td>\n",
       "    </tr>\n",
       "    <tr>\n",
       "      <th>3</th>\n",
       "      <td>fold0</td>\n",
       "      <td>0.347873</td>\n",
       "      <td>0.355163</td>\n",
       "      <td>0.468396</td>\n",
       "      <td>49.262038</td>\n",
       "    </tr>\n",
       "    <tr>\n",
       "      <th>4</th>\n",
       "      <td>fold0</td>\n",
       "      <td>0.348090</td>\n",
       "      <td>0.352404</td>\n",
       "      <td>0.464543</td>\n",
       "      <td>49.836076</td>\n",
       "    </tr>\n",
       "  </tbody>\n",
       "</table>\n",
       "</div>"
      ],
      "text/plain": [
       "    Fold  Training Loss  Validation Loss  Validation Dice  Epoch Time\n",
       "0  fold0       0.430109         0.368688         0.449178   53.946769\n",
       "1  fold0       0.359796         0.357210         0.464461   51.028236\n",
       "2  fold0       0.351595         0.356550         0.465844   50.092748\n",
       "3  fold0       0.347873         0.355163         0.468396   49.262038\n",
       "4  fold0       0.348090         0.352404         0.464543   49.836076"
      ]
     },
     "execution_count": 12,
     "metadata": {},
     "output_type": "execute_result"
    }
   ],
   "source": [
    "df = pd.DataFrame(samples, columns=[\"Fold\",\"Training Loss\", \"Validation Loss\", \"Validation Dice\", \"Epoch Time\"])\n",
    "\n",
    "df.head()"
   ]
  },
  {
   "cell_type": "code",
   "execution_count": 17,
   "metadata": {},
   "outputs": [
    {
     "data": {
      "text/plain": [
       "0.9692820620000001"
      ]
     },
     "execution_count": 17,
     "metadata": {},
     "output_type": "execute_result"
    }
   ],
   "source": [
    "df.groupby([\"Fold\"]).agg(\n",
    "    min_dice=('Validation Dice', 'min'),\n",
    "    max_dice=('Validation Dice', 'max'),\n",
    "    avg_dice=('Validation Dice', 'mean')\n",
    ")[\"max_dice\"].mean()"
   ]
  },
  {
   "cell_type": "code",
   "execution_count": 9,
   "metadata": {},
   "outputs": [
    {
     "data": {
      "text/html": [
       "<div>\n",
       "<style scoped>\n",
       "    .dataframe tbody tr th:only-of-type {\n",
       "        vertical-align: middle;\n",
       "    }\n",
       "\n",
       "    .dataframe tbody tr th {\n",
       "        vertical-align: top;\n",
       "    }\n",
       "\n",
       "    .dataframe thead th {\n",
       "        text-align: right;\n",
       "    }\n",
       "</style>\n",
       "<table border=\"1\" class=\"dataframe\">\n",
       "  <thead>\n",
       "    <tr style=\"text-align: right;\">\n",
       "      <th></th>\n",
       "      <th>Metric</th>\n",
       "      <th>Min</th>\n",
       "      <th>Max</th>\n",
       "      <th>Avg</th>\n",
       "    </tr>\n",
       "  </thead>\n",
       "  <tbody>\n",
       "    <tr>\n",
       "      <th>0</th>\n",
       "      <td>Training Loss</td>\n",
       "      <td>0.103933</td>\n",
       "      <td>0.430109</td>\n",
       "      <td>0.125183</td>\n",
       "    </tr>\n",
       "    <tr>\n",
       "      <th>1</th>\n",
       "      <td>Validation Loss</td>\n",
       "      <td>0.108683</td>\n",
       "      <td>0.370801</td>\n",
       "      <td>0.135248</td>\n",
       "    </tr>\n",
       "    <tr>\n",
       "      <th>2</th>\n",
       "      <td>Validation Dice</td>\n",
       "      <td>0.449178</td>\n",
       "      <td>0.972093</td>\n",
       "      <td>0.955784</td>\n",
       "    </tr>\n",
       "    <tr>\n",
       "      <th>3</th>\n",
       "      <td>Epoch Time</td>\n",
       "      <td>47.276477</td>\n",
       "      <td>71.238763</td>\n",
       "      <td>54.005049</td>\n",
       "    </tr>\n",
       "  </tbody>\n",
       "</table>\n",
       "</div>"
      ],
      "text/plain": [
       "            Metric        Min        Max        Avg\n",
       "0    Training Loss   0.103933   0.430109   0.125183\n",
       "1  Validation Loss   0.108683   0.370801   0.135248\n",
       "2  Validation Dice   0.449178   0.972093   0.955784\n",
       "3       Epoch Time  47.276477  71.238763  54.005049"
      ]
     },
     "execution_count": 9,
     "metadata": {},
     "output_type": "execute_result"
    }
   ],
   "source": [
    "stats = {\n",
    "    \"Metric\": [\"Training Loss\", \"Validation Loss\", \"Validation Dice\", \"Epoch Time\"],\n",
    "    \"Min\": [min(train_losses), min(val_losses), min(val_dices), min(epoch_times)],\n",
    "    \"Max\": [max(train_losses), max(val_losses), max(val_dices), max(epoch_times)],\n",
    "    \"Avg\": [np.mean(train_losses), np.mean(val_losses), np.mean(val_dices), np.mean(epoch_times)],\n",
    "}\n",
    "\n",
    "# Create DataFrame\n",
    "df = pd.DataFrame(stats)\n",
    "\n",
    "# Display DataFrame\n",
    "df"
   ]
  },
  {
   "cell_type": "code",
   "execution_count": null,
   "metadata": {},
   "outputs": [],
   "source": []
  }
 ],
 "metadata": {
  "kernelspec": {
   "display_name": "unet-env",
   "language": "python",
   "name": "python3"
  },
  "language_info": {
   "codemirror_mode": {
    "name": "ipython",
    "version": 3
   },
   "file_extension": ".py",
   "mimetype": "text/x-python",
   "name": "python",
   "nbconvert_exporter": "python",
   "pygments_lexer": "ipython3",
   "version": "3.9.16"
  }
 },
 "nbformat": 4,
 "nbformat_minor": 2
}
